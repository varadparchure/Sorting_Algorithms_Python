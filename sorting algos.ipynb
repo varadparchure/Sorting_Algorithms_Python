{
 "cells": [
  {
   "cell_type": "markdown",
   "metadata": {},
   "source": [
    "\n",
    "# Sorting algorithms"
   ]
  },
  {
   "cell_type": "markdown",
   "metadata": {},
   "source": [
    "### bubble"
   ]
  },
  {
   "cell_type": "code",
   "execution_count": 13,
   "metadata": {},
   "outputs": [
    {
     "name": "stdout",
     "output_type": "stream",
     "text": [
      "5\n",
      "4\n",
      "3\n",
      "2\n",
      "1\n",
      "[1, 2, 3, 4, 5]\n"
     ]
    }
   ],
   "source": [
    "\n",
    "\n",
    "def bubble(a):\n",
    "    \n",
    "    for i in range(len(a)-1,0,-1):\n",
    "        \n",
    "        for j in range(i):\n",
    "            \n",
    "            if a[j]>a[j+1]:\n",
    "                \n",
    "                t=a[j]\n",
    "                a[j]=a[j+1]\n",
    "                a[j+1]=t\n",
    "        \n",
    "        \n",
    "    \n",
    "    \n",
    "a=[]\n",
    "\n",
    "for i in range(0,5):\n",
    "    ele=int(input())\n",
    "    a.append(ele)\n",
    "\n",
    "bubble(a)\n",
    "\n",
    "\n",
    "print(a)\n",
    "\n",
    "\n"
   ]
  },
  {
   "cell_type": "markdown",
   "metadata": {},
   "source": [
    "### Selection"
   ]
  },
  {
   "cell_type": "code",
   "execution_count": 18,
   "metadata": {},
   "outputs": [
    {
     "name": "stdout",
     "output_type": "stream",
     "text": [
      "4\n",
      "6\n",
      "3\n",
      "2\n",
      "1\n",
      "[1, 2, 3, 4, 6]\n"
     ]
    }
   ],
   "source": [
    "\n",
    "\n",
    "def sel(a):\n",
    "    \n",
    "    for i in range(0,len(a)):\n",
    "        min=i\n",
    "        \n",
    "        for j in range(i,len(a)):\n",
    "            \n",
    "            if a[j]<a[min]:\n",
    "                min=j\n",
    "\n",
    "        t=a[i]\n",
    "        a[i]=a[min]\n",
    "        a[min]=t\n",
    "        \n",
    "    \n",
    "    \n",
    "a=[]\n",
    "\n",
    "for i in range(0,5):\n",
    "    ele=int(input())\n",
    "    a.append(ele)\n",
    "\n",
    "sel(a)\n",
    "\n",
    "\n",
    "print(a)\n",
    "\n"
   ]
  },
  {
   "cell_type": "markdown",
   "metadata": {},
   "source": [
    "### Quick sort\n",
    "this uses pivot item"
   ]
  },
  {
   "cell_type": "code",
   "execution_count": 35,
   "metadata": {},
   "outputs": [
    {
     "name": "stdout",
     "output_type": "stream",
     "text": [
      "5\n",
      "4\n",
      "3\n",
      "2\n",
      "2\n",
      "[2, 2, 3, 4, 5]\n"
     ]
    }
   ],
   "source": [
    "\n",
    "\n",
    "\n",
    "def quicksort(a):\n",
    "    \n",
    "    length=len(a)\n",
    "    \n",
    "    if length<=1:\n",
    "        return a\n",
    "    else:\n",
    "        pivot=a.pop()\n",
    "    \n",
    "    greater=[]\n",
    "    lower=[]\n",
    "    \n",
    "    for i in a:\n",
    "        if i>pivot:\n",
    "            \n",
    "            greater.append(i)\n",
    "            \n",
    "        else:\n",
    "            \n",
    "            lower.append(i)\n",
    "            \n",
    "    return quicksort(lower)+[pivot]+quicksort(greater)\n",
    "\n",
    "\n",
    "    \n",
    "a=[]\n",
    "b=[]\n",
    "for i in range(0,5):\n",
    "    ele=int(input())\n",
    "    a.append(ele)\n",
    "\n",
    "b=quicksort(a)\n",
    "\n",
    "print(b)\n",
    "\n",
    "\n"
   ]
  },
  {
   "cell_type": "markdown",
   "metadata": {},
   "source": [
    "### Insertion sort"
   ]
  },
  {
   "cell_type": "code",
   "execution_count": 52,
   "metadata": {},
   "outputs": [
    {
     "name": "stdout",
     "output_type": "stream",
     "text": [
      "5\n",
      "4\n",
      "3\n",
      "2\n",
      "1\n"
     ]
    },
    {
     "data": {
      "text/plain": [
       "[1, 2, 3, 4, 5]"
      ]
     },
     "execution_count": 52,
     "metadata": {},
     "output_type": "execute_result"
    }
   ],
   "source": [
    "\n",
    "def incsort(a):\n",
    "\n",
    "    for i in range(1,len(a)):\n",
    "        val = a[i]\n",
    "\n",
    "        while a[i-1]>val and i>0:\n",
    "            a[i-1],a[i] = a[i],a[i-1]\n",
    "            i = i-1\n",
    "    return(a)\n",
    "\n",
    "\n",
    "\n",
    "a=[]\n",
    "b=[]\n",
    "for i in range(0,5):\n",
    "    ele=int(input())\n",
    "    a.append(ele)\n",
    "    \n",
    "incsort(a)\n",
    "\n"
   ]
  },
  {
   "cell_type": "markdown",
   "metadata": {},
   "source": [
    "### Merge sort"
   ]
  },
  {
   "cell_type": "code",
   "execution_count": 2,
   "metadata": {},
   "outputs": [
    {
     "name": "stdout",
     "output_type": "stream",
     "text": [
      "how may elements you want?10\n",
      "44\n",
      "5\n",
      "22\n",
      "3\n",
      "54\n",
      "764\n",
      "12\n",
      "5\n",
      "1\n",
      "5\n",
      "[1, 3, 5, 5, 5, 12, 22, 44, 54, 764]\n"
     ]
    }
   ],
   "source": [
    "def merge(a):\n",
    "    \n",
    "    if len(a)>1:\n",
    "        mid=len(a)//2\n",
    "        leftlist=a[:mid]\n",
    "        rightlist=a[mid:]\n",
    "        merge(leftlist)\n",
    "        merge(rightlist)\n",
    "        \n",
    "        i,j,k=0,0,0\n",
    "        \n",
    "        while i<len(leftlist) and j<len(rightlist):\n",
    "            \n",
    "            if leftlist[i]<rightlist[j]:\n",
    "                a[k]=leftlist[i]\n",
    "                i+=1\n",
    "                k+=1\n",
    "            else:\n",
    "                a[k]=rightlist[j]\n",
    "                j+=1\n",
    "                k+=1\n",
    "                \n",
    "         \n",
    "        #for not considered values\n",
    "        \n",
    "        while i<len(leftlist):\n",
    "            a[k]=leftlist[i]\n",
    "            i+=1\n",
    "            k+=1\n",
    "                \n",
    "        while j<len(rightlist):\n",
    "            a[k]=rightlist[j]\n",
    "            j+=1\n",
    "            k+=1\n",
    "                \n",
    "            \n",
    "\n",
    "    \n",
    "n=int(input(\"how may elements you want?\"))\n",
    "a=[int(input()) for i in range(n)]\n",
    "\n",
    "merge(a)\n",
    "print(a)\n",
    "\n"
   ]
  },
  {
   "cell_type": "markdown",
   "metadata": {},
   "source": []
  }
 ],
 "metadata": {
  "kernelspec": {
   "display_name": "Python 3",
   "language": "python",
   "name": "python3"
  },
  "language_info": {
   "codemirror_mode": {
    "name": "ipython",
    "version": 3
   },
   "file_extension": ".py",
   "mimetype": "text/x-python",
   "name": "python",
   "nbconvert_exporter": "python",
   "pygments_lexer": "ipython3",
   "version": "3.7.4"
  }
 },
 "nbformat": 4,
 "nbformat_minor": 2
}
